{
 "cells": [
  {
   "cell_type": "code",
   "execution_count": null,
   "id": "06d57a22-b107-43c7-a22a-75fd365d97a2",
   "metadata": {},
   "outputs": [],
   "source": []
  }
 ],
 "metadata": {
  "kernelspec": {
   "display_name": "",
   "name": ""
  },
  "language_info": {
   "name": ""
  }
 },
 "nbformat": 4,
 "nbformat_minor": 5
}
